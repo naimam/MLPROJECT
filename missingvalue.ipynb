{
 "cells": [
  {
   "cell_type": "code",
   "execution_count": 13,
   "metadata": {},
   "outputs": [],
   "source": [
    "# Importing Libraries\n",
    "import numpy as np\n",
    "import pandas as pd\n",
    "from sklearn.metrics.pairwise import nan_euclidean_distances"
   ]
  },
  {
   "cell_type": "code",
   "execution_count": 14,
   "metadata": {},
   "outputs": [],
   "source": [
    "# Import datasets\n",
    "missingdata1 = pd.read_csv('input/MissingData1.txt', sep='\\s+', header=None, na_values='1.00000000000000e+99')\n",
    "missingdata2 = pd.read_csv('input/MissingData2.txt', sep='\\s+', header=None, na_values='1.00000000000000e+99')\n",
    "missingdata3 = pd.read_csv('input/MissingData3.txt', sep='\\s+', header=None, na_values='1.00000000000000e+99')\n",
    "missing_data = [missingdata1, missingdata2, missingdata3]"
   ]
  },
  {
   "cell_type": "code",
   "execution_count": 15,
   "metadata": {},
   "outputs": [],
   "source": [
    "def KNNImpute(data, k):\n",
    "    result = data.copy() # copy the data\n",
    "    indexes_nan = np.argwhere(np.isnan(data)) # find the indexes of the missing values\n",
    "    dist_matrix = nan_euclidean_distances(data) # calculate the distance matrix for the data\n",
    "    for index in indexes_nan: # iterate over the indexes of the missing values\n",
    "        row = index[0] \n",
    "        col = index[1] \n",
    "        sorted_rows = dist_matrix[row].argsort() # sorts the distance matrix for the row\n",
    "        n_values = [] \n",
    "\n",
    "        for i in sorted_rows: # iterate over the sorted rows\n",
    "            if(np.isnan(data[i,col])): # if the value is empty then skip it\n",
    "                continue\n",
    "            n_values.append(data[i,col]) \n",
    "            if(len(n_values)==k): # if the length of the list is equal to k then break\n",
    "                break\n",
    "        new_value = np.mean(n_values) # calculate the mean of the k closest values\n",
    "        result[row][col] = new_value # replace the missing value with the mean\n",
    "    return(result)"
   ]
  },
  {
   "cell_type": "code",
   "execution_count": 16,
   "metadata": {},
   "outputs": [],
   "source": [
    "# for eaching missing value, perform knn impute and write to file\n",
    "\n",
    "for i in range(len(missing_data)):\n",
    "    k = int(np.sqrt(missing_data[i].shape[0]))  # k = square root of the number of rows\n",
    "    output = KNNImpute(missing_data[i].values, k)\n",
    "    output = pd.DataFrame(output)\n",
    "    output.to_csv('output/MohamedMissingResult'+str(i+1)+'.txt', sep='\\t', index=False, header=False)\n",
    "\n"
   ]
  }
 ],
 "metadata": {
  "interpreter": {
   "hash": "ea458d1793ed83c4a9a1c9829b22cc5321347abf427211848a85b4a95e9b09b1"
  },
  "kernelspec": {
   "display_name": "Python 3.8.8 64-bit ('base': conda)",
   "language": "python",
   "name": "python3"
  },
  "language_info": {
   "codemirror_mode": {
    "name": "ipython",
    "version": 3
   },
   "file_extension": ".py",
   "mimetype": "text/x-python",
   "name": "python",
   "nbconvert_exporter": "python",
   "pygments_lexer": "ipython3",
   "version": "3.8.8"
  },
  "orig_nbformat": 4
 },
 "nbformat": 4,
 "nbformat_minor": 2
}
