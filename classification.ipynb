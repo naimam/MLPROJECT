{
 "cells": [
  {
   "cell_type": "markdown",
   "metadata": {},
   "source": [
    "# 1. Classification: \n",
    "Classification is to identify which category a new observation belongs to, on the basis of a training dataset. There are five datasets. For each dataset, we provide the training dataset, training label, and test dataset. Please use the training dataset and training label to build your classifier and predict the test label. A class label is represented by an integer. For example, in the 1st dataset, there are 4 classes where 1 represents the 1st class, 2 represents the 2nd class, etc. Note that, there exist some missing values in some of the dataset (a missing entry is filled by 1.00000000000000e+99), please fill the missing values before perform your classification algorithm.\n",
    "\n",
    "TrainData 1 contains 3312 features with 150 samples. Testdata1 contains 3312 features with 53 samples. There are 5 classes in this dataset.\n",
    "\n",
    "TrainData 2 contains 9182 features with 100 samples. Testdata2 contains 9182 features with 74 samples. There are 11 classes in this dataset.\n",
    "\n",
    "TrainData 3 contains 13  features with 6300 samples. Testdata3 contains 13 features with 2693 samples. There are 9 classes in this dataset.\n",
    "\n",
    "TrainData 4 contains 112 features with 2547 samples. Testdata4 contains 112 features with 1092 samples. There are 9 classes in this dataset.\n",
    "\n",
    "TrainData 5 contains 11 features with 1119 samples. Testdata5 contains 11 features with 480 samples. There are 6 classes in this dataset."
   ]
  },
  {
   "cell_type": "code",
   "execution_count": 113,
   "metadata": {},
   "outputs": [],
   "source": [
    "# Importing Libraries\n",
    "import numpy as np\n",
    "import pandas as pd\n",
    "import random"
   ]
  },
  {
   "cell_type": "code",
   "execution_count": 114,
   "metadata": {},
   "outputs": [],
   "source": [
    "# Importing the datasets\n",
    "traindata1 = pd.read_csv('input/TrainData1.txt', sep='\\s+', header=None, na_values='1.00000000000000e+99')\n",
    "traindata2 = pd.read_csv('input/TrainData2.txt', sep='\\s+', header=None, na_values='1.00000000000000e+99')\n",
    "traindata3 = pd.read_csv('input/TrainData3.txt', sep='\\s+', header=None, na_values='1.00000000000000e+99')\n",
    "traindata4 = pd.read_csv('input/TrainData4.txt', sep='\\s+', header=None, na_values='1.00000000000000e+99')\n",
    "traindata5 = pd.read_csv('input/TrainData5.txt', sep='\\s+', header=None, na_values='1.00000000000000e+99')\n",
    "train_data = [traindata1, traindata2, traindata3, traindata4, traindata5]\n",
    "\n",
    "testdata1 = pd.read_csv('input/TestData1.txt', sep='\\s+', header=None, na_values='1.00000000000000e+99')\n",
    "testdata2 = pd.read_csv('input/TestData2.txt', sep='\\s+', header=None, na_values='1.00000000000000e+99')\n",
    "testdata3 = pd.read_csv('input/TestData3.txt', sep='\\s+', header=None, na_values='1.00000000000000e+99')\n",
    "testdata4 = pd.read_csv('input/TestData4.txt', sep='\\s+', header=None, na_values='1.00000000000000e+99')\n",
    "testdata5 = pd.read_csv('input/TestData5.txt', sep='\\s+', header=None, na_values='1.00000000000000e+99')\n",
    "test_data = [testdata1, testdata2, testdata3, testdata4, testdata5]\n",
    "\n",
    "trainlabel1 = pd.read_csv('input/TrainLabel1.txt', sep='\\t', header=None)\n",
    "trainlabel2 = pd.read_csv('input/TrainLabel2.txt', sep='\\t', header=None)\n",
    "trainlabel3 = pd.read_csv('input/TrainLabel3.txt', sep='\\t', header=None)\n",
    "trainlabel4 = pd.read_csv('input/TrainLabel4.txt', sep='\\t', header=None)\n",
    "trainlabel5 = pd.read_csv('input/TrainLabel5.txt', sep='\\t', header=None)\n",
    "train_label = [trainlabel1, trainlabel2, trainlabel3, trainlabel4, trainlabel5]"
   ]
  },
  {
   "cell_type": "code",
   "execution_count": 115,
   "metadata": {},
   "outputs": [
    {
     "name": "stdout",
     "output_type": "stream",
     "text": [
      "Missing values in the train data:\n",
      "train dataset 1: 9936\n",
      "train dataset 2: 0\n",
      "train dataset 3: 1886\n",
      "train dataset 4: 0\n",
      "train dataset 5: 0\n",
      "Missing values in the test data:\n",
      "test dataset 1: 7021\n",
      "test dataset 2: 0\n",
      "test dataset 3: 0\n",
      "test dataset 4: 0\n",
      "test dataset 5: 0\n"
     ]
    }
   ],
   "source": [
    "# count the numbers of coloumns where the value = 1.00000000000000e+99\n",
    "def count_na(data, type):\n",
    "    print(\"Missing values in the \" + type + \" data:\")\n",
    "    for i in range(len(data)):\n",
    "        missing_val_count = data[i].isnull().sum().sum()\n",
    "        print( type + \" dataset \" + str(i+1) + \": \" + str(missing_val_count))\n",
    "\n",
    "count_na(train_data, \"train\")\n",
    "count_na(test_data, \"test\")\n",
    "\n"
   ]
  },
  {
   "cell_type": "code",
   "execution_count": 129,
   "metadata": {},
   "outputs": [
    {
     "name": "stdout",
     "output_type": "stream",
     "text": [
      "Missing values in the train data:\n",
      "train dataset 1: 0\n",
      "train dataset 2: 0\n",
      "train dataset 3: 0\n",
      "train dataset 4: 0\n",
      "train dataset 5: 0\n",
      "Missing values in the test data:\n",
      "test dataset 1: 0\n",
      "test dataset 2: 0\n",
      "test dataset 3: 0\n",
      "test dataset 4: 0\n",
      "test dataset 5: 0\n"
     ]
    }
   ],
   "source": [
    "# Now we need to replace the missing values in the dataset using the mean of each column\n",
    "def replace_na(data):\n",
    "    for i in range(len(data)):\n",
    "        for column in data[i].columns:   \n",
    "                data[i][column] = data[i][column].fillna(data[i][column].mean())\n",
    "         \n",
    "replace_na(train_data)\n",
    "\n",
    "# Replacing test dataset 1 missing values\n",
    "for column in testdata1.columns:\n",
    "    testdata1[column] = testdata1[column].fillna(testdata1[column].mean())\n",
    "\n",
    "# Now checking if any remaining missing vals left\n",
    "count_na(train_data, \"train\")\n",
    "count_na(test_data, \"test\")\n"
   ]
  }
 ],
 "metadata": {
  "interpreter": {
   "hash": "ea458d1793ed83c4a9a1c9829b22cc5321347abf427211848a85b4a95e9b09b1"
  },
  "kernelspec": {
   "display_name": "Python 3.8.8 ('base')",
   "language": "python",
   "name": "python3"
  },
  "language_info": {
   "codemirror_mode": {
    "name": "ipython",
    "version": 3
   },
   "file_extension": ".py",
   "mimetype": "text/x-python",
   "name": "python",
   "nbconvert_exporter": "python",
   "pygments_lexer": "ipython3",
   "version": "3.8.8"
  },
  "orig_nbformat": 4
 },
 "nbformat": 4,
 "nbformat_minor": 2
}
