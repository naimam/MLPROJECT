{
 "cells": [
  {
   "cell_type": "code",
   "execution_count": 1,
   "id": "1277da21",
   "metadata": {
    "_cell_guid": "b1076dfc-b9ad-4769-8c92-a6c4dae69d19",
    "_uuid": "8f2839f25d086af736a60e9eeb907d3b93b6e0e5",
    "execution": {
     "iopub.execute_input": "2022-04-11T09:30:16.584507Z",
     "iopub.status.busy": "2022-04-11T09:30:16.583177Z",
     "iopub.status.idle": "2022-04-11T09:30:16.604984Z",
     "shell.execute_reply": "2022-04-11T09:30:16.605874Z",
     "shell.execute_reply.started": "2022-04-11T09:17:17.136140Z"
    },
    "papermill": {
     "duration": 0.044915,
     "end_time": "2022-04-11T09:30:16.606368",
     "exception": false,
     "start_time": "2022-04-11T09:30:16.561453",
     "status": "completed"
    },
    "tags": []
   },
   "outputs": [
    {
     "name": "stdout",
     "output_type": "stream",
     "text": [
      "/kaggle/input/test-data-1/MultLabelTrainData.txt\n",
      "/kaggle/input/test-data-1/TrainData5.txt\n",
      "/kaggle/input/test-data-1/TrainData4.txt\n",
      "/kaggle/input/test-data-1/TrainLabel3.txt\n",
      "/kaggle/input/test-data-1/TestData4.txt\n",
      "/kaggle/input/test-data-1/TrainLabel4.txt\n",
      "/kaggle/input/test-data-1/MissingData2.txt\n",
      "/kaggle/input/test-data-1/TestData6.txt\n",
      "/kaggle/input/test-data-1/TrainData3.txt\n",
      "/kaggle/input/test-data-1/MissingData1.txt\n",
      "/kaggle/input/test-data-1/TrainData6.txt\n",
      "/kaggle/input/test-data-1/TrainData1.txt\n",
      "/kaggle/input/test-data-1/TestData5.txt\n",
      "/kaggle/input/test-data-1/TestData3.txt\n",
      "/kaggle/input/test-data-1/TestData1.txt\n",
      "/kaggle/input/test-data-1/TrainLabel6.txt\n",
      "/kaggle/input/test-data-1/MissingData3.txt\n",
      "/kaggle/input/test-data-1/MultLabelTestData.txt\n",
      "/kaggle/input/test-data-1/TestData2.txt\n",
      "/kaggle/input/test-data-1/TrainLabel5.txt\n",
      "/kaggle/input/test-data-1/TrainData2.txt\n",
      "/kaggle/input/test-data-1/TrainLabel1.txt\n",
      "/kaggle/input/test-data-1/MultLabelTrainLabel.txt\n",
      "/kaggle/input/test-data-1/TrainLabel2.txt\n"
     ]
    }
   ],
   "source": [
    "# This Python 3 environment comes with many helpful analytics libraries installed\n",
    "# It is defined by the kaggle/python Docker image: https://github.com/kaggle/docker-python\n",
    "# For example, here's several helpful packages to load\n",
    "\n",
    "import numpy as np # linear algebra\n",
    "import pandas as pd # data processing, CSV file I/O (e.g. pd.read_csv)\n",
    "\n",
    "# Input data files are available in the read-only \"../input/\" directory\n",
    "# For example, running this (by clicking run or pressing Shift+Enter) will list all files under the input directory\n",
    "\n",
    "import os\n",
    "for dirname, _, filenames in os.walk('/kaggle/input'):\n",
    "    for filename in filenames:\n",
    "        print(os.path.join(dirname, filename))\n",
    "\n",
    "# You can write up to 20GB to the current directory (/kaggle/working/) that gets preserved as output when you create a version using \"Save & Run All\" \n",
    "# You can also write temporary files to /kaggle/temp/, but they won't be saved outside of the current session"
   ]
  },
  {
   "cell_type": "code",
   "execution_count": 2,
   "id": "8f1d4e37",
   "metadata": {
    "execution": {
     "iopub.execute_input": "2022-04-11T09:30:16.655132Z",
     "iopub.status.busy": "2022-04-11T09:30:16.651366Z",
     "iopub.status.idle": "2022-04-11T09:30:18.137284Z",
     "shell.execute_reply": "2022-04-11T09:30:18.136434Z",
     "shell.execute_reply.started": "2022-04-11T09:17:17.182960Z"
    },
    "papermill": {
     "duration": 1.5108,
     "end_time": "2022-04-11T09:30:18.137431",
     "exception": false,
     "start_time": "2022-04-11T09:30:16.626631",
     "status": "completed"
    },
    "tags": []
   },
   "outputs": [],
   "source": [
    "#Library import \n",
    "import numpy as np\n",
    "import pandas as pd\n",
    "from sklearn.impute import KNNImputer\n",
    "from math import sqrt\n",
    "from sklearn.metrics import accuracy_score\n",
    "from imblearn.over_sampling import RandomOverSampler\n",
    "from sklearn.neural_network import MLPClassifier\n",
    "from sklearn.model_selection import train_test_split\n",
    "from sklearn.preprocessing import StandardScaler\n",
    "from sklearn.preprocessing import OneHotEncoder\n",
    "import sys"
   ]
  },
  {
   "cell_type": "code",
   "execution_count": 3,
   "id": "8045b381",
   "metadata": {
    "execution": {
     "iopub.execute_input": "2022-04-11T09:30:18.174104Z",
     "iopub.status.busy": "2022-04-11T09:30:18.173478Z",
     "iopub.status.idle": "2022-04-11T09:30:18.177994Z",
     "shell.execute_reply": "2022-04-11T09:30:18.178656Z",
     "shell.execute_reply.started": "2022-04-11T09:17:17.197371Z"
    },
    "papermill": {
     "duration": 0.024625,
     "end_time": "2022-04-11T09:30:18.178835",
     "exception": false,
     "start_time": "2022-04-11T09:30:18.154210",
     "status": "completed"
    },
    "tags": []
   },
   "outputs": [],
   "source": [
    "np.set_printoptions(threshold=sys.maxsize)"
   ]
  },
  {
   "cell_type": "code",
   "execution_count": 4,
   "id": "cf9355fd",
   "metadata": {
    "execution": {
     "iopub.execute_input": "2022-04-11T09:30:18.215651Z",
     "iopub.status.busy": "2022-04-11T09:30:18.214954Z",
     "iopub.status.idle": "2022-04-11T09:30:18.878800Z",
     "shell.execute_reply": "2022-04-11T09:30:18.879334Z",
     "shell.execute_reply.started": "2022-04-11T09:17:17.229857Z"
    },
    "papermill": {
     "duration": 0.683888,
     "end_time": "2022-04-11T09:30:18.879505",
     "exception": false,
     "start_time": "2022-04-11T09:30:18.195617",
     "status": "completed"
    },
    "tags": []
   },
   "outputs": [
    {
     "name": "stdout",
     "output_type": "stream",
     "text": [
      "Value label counts: \n",
      " 1    108\n",
      "2     14\n",
      "4     14\n",
      "3     11\n",
      "5      3\n",
      "dtype: int64\n"
     ]
    }
   ],
   "source": [
    "#dataset 1 replace file directory to run the code on your own\n",
    "X_one = pd.read_csv('/kaggle/input/test-data-1/TrainData1.txt', delimiter = \"\\s+\", header=None, na_values='1.00000000000000e+99')\n",
    "y_one = pd.read_csv('/kaggle/input/test-data-1/TrainLabel1.txt', delimiter = \"\\s+\", header=None,na_values='1.00000000000000e+99')\n",
    "testing_data_one = pd.read_csv('/kaggle/input/test-data-1/TestData1.txt', delimiter = \"\\s+\", header=None,na_values='1.00000000000000e+99')\n",
    "print(\"Value label counts: \\n\", y_one.value_counts())\n",
    "y_one = np.array(y_one)\n",
    "y_one = y_one.ravel()"
   ]
  },
  {
   "cell_type": "code",
   "execution_count": 5,
   "id": "e14f8a8b",
   "metadata": {
    "execution": {
     "iopub.execute_input": "2022-04-11T09:30:18.920366Z",
     "iopub.status.busy": "2022-04-11T09:30:18.919659Z",
     "iopub.status.idle": "2022-04-11T09:30:20.825068Z",
     "shell.execute_reply": "2022-04-11T09:30:20.824335Z",
     "shell.execute_reply.started": "2022-04-11T09:17:17.628584Z"
    },
    "papermill": {
     "duration": 1.928714,
     "end_time": "2022-04-11T09:30:20.825304",
     "exception": false,
     "start_time": "2022-04-11T09:30:18.896590",
     "status": "completed"
    },
    "tags": []
   },
   "outputs": [
    {
     "name": "stdout",
     "output_type": "stream",
     "text": [
      "Value label counts: \n",
      " 3     12\n",
      "4     11\n",
      "5     11\n",
      "1     10\n",
      "6     10\n",
      "8      9\n",
      "10     9\n",
      "2      8\n",
      "11     8\n",
      "7      6\n",
      "9      6\n",
      "dtype: int64\n"
     ]
    }
   ],
   "source": [
    "# dataset 2\n",
    "X_two = pd.read_csv('/kaggle/input/test-data-1/TrainData2.txt', delimiter = \"\\s+\", header=None, na_values='1.00000000000000e+99')\n",
    "y_two = pd.read_csv('/kaggle/input/test-data-1/TrainLabel2.txt', delimiter = \"\\s+\", header=None,na_values='1.00000000000000e+99')\n",
    "testing_data_two = pd.read_csv('/kaggle/input/test-data-1/TestData2.txt', delimiter = \"\\s+\", header=None,na_values='1000000000')\n",
    "print(\"Value label counts: \\n\", y_two.value_counts())\n",
    "y_two = np.array(y_two)\n",
    "y_two = y_two.ravel()"
   ]
  },
  {
   "cell_type": "code",
   "execution_count": 6,
   "id": "df117a04",
   "metadata": {
    "execution": {
     "iopub.execute_input": "2022-04-11T09:30:20.868643Z",
     "iopub.status.busy": "2022-04-11T09:30:20.867880Z",
     "iopub.status.idle": "2022-04-11T09:30:20.930409Z",
     "shell.execute_reply": "2022-04-11T09:30:20.929628Z",
     "shell.execute_reply.started": "2022-04-11T09:17:18.801618Z"
    },
    "papermill": {
     "duration": 0.087107,
     "end_time": "2022-04-11T09:30:20.930594",
     "exception": false,
     "start_time": "2022-04-11T09:30:20.843487",
     "status": "completed"
    },
    "tags": []
   },
   "outputs": [
    {
     "name": "stdout",
     "output_type": "stream",
     "text": [
      "Value label counts: \n",
      " 1    1235\n",
      "8     912\n",
      "6     777\n",
      "7     677\n",
      "9     596\n",
      "4     566\n",
      "2     554\n",
      "5     495\n",
      "3     488\n",
      "dtype: int64\n",
      "      0    1   2    3    4    5   6    7   8    9    10   11   12\n",
      "0      1  5.0   3  4.0  1.0  5.0   1  3.0   0  1.0  1.0  7.0  1.0\n",
      "1      2  1.0   4  3.0  5.0  5.0   3  2.0   0  1.0  1.0  7.0  1.0\n",
      "2      1  5.0   2  3.0  9.0  2.0   1  4.0   1  3.0  1.0  7.0  1.0\n",
      "3      1  2.0   2  2.0  3.0  2.0   1  4.0   2  3.0  3.0  7.0  1.0\n",
      "4      2  5.0   3  4.0  1.0  2.0   1  1.0   0  2.0  2.0  7.0  1.0\n",
      "...   ..  ...  ..  ...  ...  ...  ..  ...  ..  ...  ...  ...  ...\n",
      "2688   2  5.0   1  1.0  2.0  5.0   1  3.0   2  3.0  1.0  7.0  1.0\n",
      "2689   1  5.0   2  4.0  1.0  5.0   1  4.0   0  3.0  1.0  7.0  1.0\n",
      "2690   2  5.0   1  2.0  1.0  5.0   1  3.0   2  3.0  1.0  7.0  1.0\n",
      "2691   1  1.0   6  4.0  3.0  5.0   2  3.0   1  2.0  3.0  7.0  1.0\n",
      "2692   1  5.0   3  4.0  1.0  5.0   1  1.0   0  2.0  3.0  5.0  1.0\n",
      "\n",
      "[2693 rows x 13 columns]\n",
      "    0    1   2    3    4    5   6    7   8    9    10  11   12\n",
      "11   1  1.0   4  6.0  1.0  5.0   3  5.0   3  1.0  1.0 NaN  1.0\n"
     ]
    }
   ],
   "source": [
    "#dataset 3\n",
    "X_three = pd.read_csv('/kaggle/input/test-data-1/TrainData3.txt', delimiter = \"\\s+\", header=None, na_values='1.00000000000000e+99')\n",
    "y_three = pd.read_csv('/kaggle/input/test-data-1/TrainLabel3.txt', delimiter = \"\\s+\", header=None,na_values='1.00000000000000e+99')\n",
    "testing_data_three = pd.read_csv('/kaggle/input/test-data-1/TestData3.txt', delimiter = \",\", header=None,na_values=1000000000)\n",
    "print(\"Value label counts: \\n\", y_three.value_counts())\n",
    "y_three = np.array(y_three)\n",
    "y_three = y_three.ravel()\n",
    "print(testing_data_three)\n",
    "print(testing_data_three.loc[[11]])"
   ]
  },
  {
   "cell_type": "code",
   "execution_count": 7,
   "id": "ee962e53",
   "metadata": {
    "execution": {
     "iopub.execute_input": "2022-04-11T09:30:20.970602Z",
     "iopub.status.busy": "2022-04-11T09:30:20.969667Z",
     "iopub.status.idle": "2022-04-11T09:30:21.181120Z",
     "shell.execute_reply": "2022-04-11T09:30:21.181687Z",
     "shell.execute_reply.started": "2022-04-11T09:17:18.846577Z"
    },
    "papermill": {
     "duration": 0.232684,
     "end_time": "2022-04-11T09:30:21.181858",
     "exception": false,
     "start_time": "2022-04-11T09:30:20.949174",
     "status": "completed"
    },
    "tags": []
   },
   "outputs": [
    {
     "name": "stdout",
     "output_type": "stream",
     "text": [
      "Value label counts: \n",
      " 8    298\n",
      "4    292\n",
      "7    289\n",
      "1    288\n",
      "6    287\n",
      "5    278\n",
      "2    275\n",
      "3    270\n",
      "9    270\n",
      "dtype: int64\n"
     ]
    }
   ],
   "source": [
    "#dataset 4\n",
    "X_four = pd.read_csv('/kaggle/input/test-data-1/TrainData4.txt', delimiter = \"\\s+\", header=None, na_values='1.00000000000000e+99')\n",
    "y_four = pd.read_csv('/kaggle/input/test-data-1/TrainLabel4.txt', delimiter = \"\\s+\", header=None,na_values='1.00000000000000e+99')\n",
    "testing_data_four = pd.read_csv('/kaggle/input/test-data-1/TestData4.txt', delimiter = \"\\s+\", header=None,na_values='1.00000000000000e+99')\n",
    "print(\"Value label counts: \\n\", y_four.value_counts())\n",
    "y_four = np.array(y_four)\n",
    "y_four = y_four.ravel()"
   ]
  },
  {
   "cell_type": "code",
   "execution_count": 8,
   "id": "2b496d32",
   "metadata": {
    "execution": {
     "iopub.execute_input": "2022-04-11T09:30:21.221169Z",
     "iopub.status.busy": "2022-04-11T09:30:21.220596Z",
     "iopub.status.idle": "2022-04-11T09:30:21.259003Z",
     "shell.execute_reply": "2022-04-11T09:30:21.259655Z",
     "shell.execute_reply.started": "2022-04-11T09:17:18.970246Z"
    },
    "papermill": {
     "duration": 0.059776,
     "end_time": "2022-04-11T09:30:21.259838",
     "exception": false,
     "start_time": "2022-04-11T09:30:21.200062",
     "status": "completed"
    },
    "tags": []
   },
   "outputs": [
    {
     "name": "stdout",
     "output_type": "stream",
     "text": [
      "Value label counts: \n",
      " 5    471\n",
      "6    447\n",
      "7    141\n",
      "4     39\n",
      "8     14\n",
      "3      7\n",
      "dtype: int64\n"
     ]
    }
   ],
   "source": [
    "#dataset 5\n",
    "X_five = pd.read_csv('/kaggle/input/test-data-1/TrainData5.txt', delimiter = \"\\s+\", header=None, na_values='1.00000000000000e+99')\n",
    "y_five = pd.read_csv('/kaggle/input/test-data-1/TrainLabel5.txt', delimiter = \"\\s+\", header=None,na_values='1.00000000000000e+99')\n",
    "testing_data_five = pd.read_csv('/kaggle/input/test-data-1/TestData5.txt', delimiter = \"\\s+\", header=None,na_values='1.00000000000000e+99')\n",
    "print(\"Value label counts: \\n\", y_five.value_counts())\n",
    "y_five = np.array(y_five)\n",
    "y_five = y_five.ravel()"
   ]
  },
  {
   "cell_type": "code",
   "execution_count": 9,
   "id": "39a3f9bd",
   "metadata": {
    "execution": {
     "iopub.execute_input": "2022-04-11T09:30:21.300527Z",
     "iopub.status.busy": "2022-04-11T09:30:21.299915Z",
     "iopub.status.idle": "2022-04-11T09:30:25.038394Z",
     "shell.execute_reply": "2022-04-11T09:30:25.037843Z",
     "shell.execute_reply.started": "2022-04-11T09:17:18.995558Z"
    },
    "papermill": {
     "duration": 3.759925,
     "end_time": "2022-04-11T09:30:25.038549",
     "exception": false,
     "start_time": "2022-04-11T09:30:21.278624",
     "status": "completed"
    },
    "tags": []
   },
   "outputs": [],
   "source": [
    "#using knn imputer to replace missing values in train_data 1, 3 and test_data 1\n",
    "\n",
    "m, n  = X_one.shape\n",
    "imputer = KNNImputer(n_neighbors=int(sqrt(m)/2))\n",
    "X_one = imputer.fit_transform(X_one)\n",
    "\n",
    "m, n  = X_three.shape\n",
    "imputer = KNNImputer(n_neighbors=int(sqrt(m)/2))\n",
    "X_three = imputer.fit_transform(X_three)\n",
    "\n",
    "m, n  = testing_data_one.shape\n",
    "imputer = KNNImputer(n_neighbors=int(sqrt(m)/2))\n",
    "testing_data_one = imputer.fit_transform(testing_data_one)\n",
    "\n",
    "m, n  = testing_data_three.shape\n",
    "imputer = KNNImputer(n_neighbors=int(sqrt(m)/2))\n",
    "testing_data_three = imputer.fit_transform(testing_data_three)"
   ]
  },
  {
   "cell_type": "code",
   "execution_count": 10,
   "id": "6ba3b4e6",
   "metadata": {
    "execution": {
     "iopub.execute_input": "2022-04-11T09:30:25.079628Z",
     "iopub.status.busy": "2022-04-11T09:30:25.079032Z",
     "iopub.status.idle": "2022-04-11T09:30:25.104262Z",
     "shell.execute_reply": "2022-04-11T09:30:25.103705Z",
     "shell.execute_reply.started": "2022-04-11T09:17:22.302362Z"
    },
    "papermill": {
     "duration": 0.046886,
     "end_time": "2022-04-11T09:30:25.104422",
     "exception": false,
     "start_time": "2022-04-11T09:30:25.057536",
     "status": "completed"
    },
    "tags": []
   },
   "outputs": [],
   "source": [
    "#We oversample/undersample data to avoid bias prediction\n",
    "\n",
    "#datast 1\n",
    "oversample_one = RandomOverSampler(sampling_strategy={1: 108, 2: 60, 4: 60, 3: 55, 5: 50})\n",
    "X_one, y_one = oversample_one.fit_resample(X_one, y_one)\n",
    "\n",
    "#dataset 3\n",
    "oversample_three = RandomOverSampler(sampling_strategy={1: 1235, 8: 1200, 6: 1200, 7: 1200, 9: 1200, 4: 1200, 2: 1200, 5: 1200, 3: 1200})\n",
    "X_three, y_three = oversample_three.fit_resample(X_three, y_three)\n",
    "#dataset 5\n",
    "oversample_five = RandomOverSampler(sampling_strategy={5: 471, 6: 447, 7: 400, 4: 300, 8: 200, 3: 200})\n",
    "X_five, y_five = oversample_five.fit_resample(X_five, y_five)"
   ]
  },
  {
   "cell_type": "code",
   "execution_count": 11,
   "id": "db546840",
   "metadata": {
    "execution": {
     "iopub.execute_input": "2022-04-11T09:30:25.144758Z",
     "iopub.status.busy": "2022-04-11T09:30:25.144118Z",
     "iopub.status.idle": "2022-04-11T09:30:25.163732Z",
     "shell.execute_reply": "2022-04-11T09:30:25.164261Z",
     "shell.execute_reply.started": "2022-04-11T09:17:22.330550Z"
    },
    "papermill": {
     "duration": 0.041341,
     "end_time": "2022-04-11T09:30:25.164442",
     "exception": false,
     "start_time": "2022-04-11T09:30:25.123101",
     "status": "completed"
    },
    "tags": []
   },
   "outputs": [],
   "source": [
    "# dataset 1\n",
    "X_train_one, X_test_one, y_train_one, y_test_one = train_test_split(X_one, y_one, test_size = 0.30, random_state = 2)\n",
    "\n",
    "# dataset 2\n",
    "X_train_two, X_test_two, y_train_two, y_test_two = train_test_split(X_two, y_two, test_size = 0.30, random_state = 2)\n",
    "\n",
    "# dataset 3\n",
    "X_train_three, X_test_three, y_train_three, y_test_three = train_test_split(X_three, y_three, test_size = 0.30, random_state = 2)\n",
    "\n",
    "# dataset 4\n",
    "X_train_four, X_test_four, y_train_four, y_test_four = train_test_split(X_four, y_four, test_size = 0.30, random_state = 2)\n",
    "\n",
    "# dataset 5\n",
    "X_train_five, X_test_five, y_train_five, y_test_five = train_test_split(X_five, y_five, test_size = 0.30, random_state = 2)"
   ]
  },
  {
   "cell_type": "code",
   "execution_count": 12,
   "id": "d83fe953",
   "metadata": {
    "execution": {
     "iopub.execute_input": "2022-04-11T09:30:25.204837Z",
     "iopub.status.busy": "2022-04-11T09:30:25.204181Z",
     "iopub.status.idle": "2022-04-11T09:30:25.583030Z",
     "shell.execute_reply": "2022-04-11T09:30:25.583593Z",
     "shell.execute_reply.started": "2022-04-11T09:17:22.351923Z"
    },
    "papermill": {
     "duration": 0.400725,
     "end_time": "2022-04-11T09:30:25.583762",
     "exception": false,
     "start_time": "2022-04-11T09:30:25.183037",
     "status": "completed"
    },
    "tags": []
   },
   "outputs": [],
   "source": [
    "sc = StandardScaler()\n",
    "\n",
    "#dataset 1\n",
    "X_trainscaled_one = sc.fit_transform(X_train_one)\n",
    "X_testscaled_one = sc.transform(X_test_one)\n",
    "testing_data_one = sc.transform(testing_data_one)\n",
    "#dataset 2\n",
    "X_trainscaled_two = sc.fit_transform(X_train_two)\n",
    "X_testscaled_two = sc.transform(X_test_two)\n",
    "testing_data_two = sc.transform(testing_data_two)\n",
    "#dataset 3\n",
    "X_trainscaled_three = sc.fit_transform(X_train_three)\n",
    "X_testscaled_three = sc.transform(X_test_three)\n",
    "testing_data_three = sc.transform(testing_data_three)\n",
    "#dataset 4\n",
    "X_trainscaled_four = sc.fit_transform(X_train_four)\n",
    "X_testscaled_four = sc.transform(X_test_four)\n",
    "testing_data_four = sc.transform(testing_data_four)\n",
    "#dataset 5\n",
    "X_trainscaled_five = sc.fit_transform(X_train_five)\n",
    "X_testscaled_five = sc.transform(X_test_five)\n",
    "testing_data_five = sc.transform(testing_data_five)"
   ]
  },
  {
   "cell_type": "code",
   "execution_count": null,
   "id": "b50d040b",
   "metadata": {
    "papermill": {
     "duration": 0.018358,
     "end_time": "2022-04-11T09:30:25.620692",
     "exception": false,
     "start_time": "2022-04-11T09:30:25.602334",
     "status": "completed"
    },
    "tags": []
   },
   "outputs": [],
   "source": []
  },
  {
   "cell_type": "code",
   "execution_count": 13,
   "id": "40b9de71",
   "metadata": {
    "execution": {
     "iopub.execute_input": "2022-04-11T09:30:25.661175Z",
     "iopub.status.busy": "2022-04-11T09:30:25.660531Z",
     "iopub.status.idle": "2022-04-11T09:32:21.096806Z",
     "shell.execute_reply": "2022-04-11T09:32:21.097694Z",
     "shell.execute_reply.started": "2022-04-11T09:17:22.623092Z"
    },
    "papermill": {
     "duration": 115.458739,
     "end_time": "2022-04-11T09:32:21.097996",
     "exception": false,
     "start_time": "2022-04-11T09:30:25.639257",
     "status": "completed"
    },
    "tags": []
   },
   "outputs": [
    {
     "name": "stdout",
     "output_type": "stream",
     "text": [
      "Testing Accuracy for dataset 1:  0.98\n",
      "Trainning accuracy for dataset 1:  1.0\n",
      "Testing Accuracy for dataset 2:  0.9\n",
      "Trainning accuracy for dataset 2:  1.0\n",
      "Testing Accuracy for dataset 3:  0.6567210089203322\n",
      "Trainning accuracy for dataset 3:  0.9194356540084389\n",
      "Testing Accuracy for dataset 4:  0.9124183006535947\n",
      "Trainning accuracy for dataset 4:  1.0\n",
      "Testing Accuracy for dataset 5:  0.8135313531353136\n",
      "Trainning accuracy for dataset 5:  0.9660056657223796\n"
     ]
    }
   ],
   "source": [
    "# dataser 1\n",
    "clf = MLPClassifier(hidden_layer_sizes=(50, 32),activation=\"relu\",random_state=1,max_iter=2000).fit(X_trainscaled_one, y_train_one)\n",
    "y_pred_one=clf.predict(X_testscaled_one)\n",
    "print(\"Testing Accuracy for dataset 1: \", clf.score(X_testscaled_one, y_test_one))\n",
    "print(\"Trainning accuracy for dataset 1: \", clf.score(X_trainscaled_one, y_train_one))\n",
    "testing_pred_one = clf.predict(testing_data_one)\n",
    "# print(*testing_pred_one, sep='\\n')\n",
    "\n",
    "#dataset 2\n",
    "clf = MLPClassifier(hidden_layer_sizes=(75,64,32),activation=\"relu\",random_state=1,max_iter=2000).fit(X_trainscaled_two, y_train_two)\n",
    "y_pred_two=clf.predict(X_testscaled_two)\n",
    "prediction_two = pd.DataFrame(y_pred_two)\n",
    "print(\"Testing Accuracy for dataset 2: \", clf.score(X_testscaled_two, y_test_two))\n",
    "print(\"Trainning accuracy for dataset 2: \", clf.score(X_trainscaled_two, y_train_two))\n",
    "testing_pred_two = clf.predict(testing_data_two)\n",
    "# print(*testing_pred_two, sep='\\n')\n",
    "\n",
    "#dataset 3\n",
    "clf = MLPClassifier(hidden_layer_sizes=(500,300,150,75,32),activation=\"relu\",random_state=1,max_iter=3000).fit(X_trainscaled_three, y_train_three)\n",
    "y_pred_three=clf.predict(X_testscaled_three)\n",
    "print(\"Testing Accuracy for dataset 3: \", clf.score(X_testscaled_three, y_test_three))\n",
    "print(\"Trainning accuracy for dataset 3: \", clf.score(X_trainscaled_three, y_train_three))\n",
    "testing_pred_three = clf.predict(testing_data_three)\n",
    "# print(*testing_pred_three, sep='\\n')\n",
    "# print(*y_pred_three, sep='\\n')\n",
    "#dataset 4\n",
    "clf = MLPClassifier(hidden_layer_sizes=(500,150,75,32),activation=\"relu\",random_state=1,max_iter=3000).fit(X_trainscaled_four, y_train_four)\n",
    "y_pred_four=clf.predict(X_testscaled_four)\n",
    "print(\"Testing Accuracy for dataset 4: \", clf.score(X_testscaled_four, y_test_four))\n",
    "print(\"Trainning accuracy for dataset 4: \", clf.score(X_trainscaled_four, y_train_four))\n",
    "testing_pred_four = clf.predict(testing_data_four)\n",
    "# print(*testing_pred_four, sep='\\n')\n",
    "# print(*y_pred_four,sep='\\n')\n",
    "\n",
    "#dataset 5\n",
    "clf = MLPClassifier(hidden_layer_sizes=(500,128,64,32),activation=\"relu\",random_state=1,max_iter=3000).fit(X_trainscaled_five, y_train_five)\n",
    "y_pred_five=clf.predict(X_testscaled_five)\n",
    "print(\"Testing Accuracy for dataset 5: \", clf.score(X_testscaled_five, y_test_five))\n",
    "print(\"Trainning accuracy for dataset 5: \", clf.score(X_trainscaled_five, y_train_five))\n",
    "testing_pred_five = clf.predict(testing_data_five)\n",
    "# print(*testing_pred_five, sep='\\n')\n",
    "# print(*y_pred_five, sep='\\n')"
   ]
  },
  {
   "cell_type": "code",
   "execution_count": null,
   "id": "9a7d7d7b",
   "metadata": {
    "execution": {
     "iopub.execute_input": "2022-04-11T09:19:28.206944Z",
     "iopub.status.busy": "2022-04-11T09:19:28.206456Z",
     "iopub.status.idle": "2022-04-11T09:19:28.249679Z",
     "shell.execute_reply": "2022-04-11T09:19:28.248755Z",
     "shell.execute_reply.started": "2022-04-11T09:19:28.206902Z"
    },
    "papermill": {
     "duration": 0.037546,
     "end_time": "2022-04-11T09:32:21.176834",
     "exception": false,
     "start_time": "2022-04-11T09:32:21.139288",
     "status": "completed"
    },
    "tags": []
   },
   "outputs": [],
   "source": [
    "\n"
   ]
  }
 ],
 "metadata": {
  "kernelspec": {
   "display_name": "Python 3",
   "language": "python",
   "name": "python3"
  },
  "language_info": {
   "codemirror_mode": {
    "name": "ipython",
    "version": 3
   },
   "file_extension": ".py",
   "mimetype": "text/x-python",
   "name": "python",
   "nbconvert_exporter": "python",
   "pygments_lexer": "ipython3",
   "version": "3.7.12"
  },
  "papermill": {
   "default_parameters": {},
   "duration": 134.948847,
   "end_time": "2022-04-11T09:32:21.925386",
   "environment_variables": {},
   "exception": null,
   "input_path": "__notebook__.ipynb",
   "output_path": "__notebook__.ipynb",
   "parameters": {},
   "start_time": "2022-04-11T09:30:06.976539",
   "version": "2.3.3"
  }
 },
 "nbformat": 4,
 "nbformat_minor": 5
}
